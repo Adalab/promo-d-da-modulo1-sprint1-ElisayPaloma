{
 "cells": [
  {
   "attachments": {},
   "cell_type": "markdown",
   "metadata": {},
   "source": [
    "# SENTENCIAS DE CONTROL\n"
   ]
  },
  {
   "attachments": {},
   "cell_type": "markdown",
   "metadata": {},
   "source": [
    "En la escuela donde trabajamos tienen el siguiente sistema de notas:\n",
    "- Below 25 - F\n",
    "- 25 to 45 - E\n",
    "- 45 to 50 - D\n",
    "- 50 to 60 - C\n",
    "- 60 to 80 - B\n",
    "- Above 80 - A\n",
    "\n",
    "El objetivo de este ejercicio es que le preguntéis al usuario por una nota (numérica) y nosotros le devolvamos la nota con la letra que le corresponde."
   ]
  },
  {
   "cell_type": "code",
   "execution_count": 59,
   "metadata": {},
   "outputs": [
    {
     "name": "stdout",
     "output_type": "stream",
     "text": [
      "95\n"
     ]
    }
   ],
   "source": [
    "# primero creamos la variable donde almacenar la respuesta del usuario. La convertimos directamente a integer cin int()\n",
    "nota_usuario = int(input('Dime cúal ha sido tu nota del 0 a 100'))\n",
    "print(nota_usuario)"
   ]
  },
  {
   "cell_type": "code",
   "execution_count": 60,
   "metadata": {},
   "outputs": [
    {
     "name": "stdout",
     "output_type": "stream",
     "text": [
      "Tienes una A\n"
     ]
    }
   ],
   "source": [
    "# a continuación creamos la secuencia de control\n",
    "if nota_usuario < 25:\n",
    "    print('Tienes una F')\n",
    "elif 25 <= nota_usuario < 45:\n",
    "    print('Tienes una E')\n",
    "elif 45 <= nota_usuario < 50:\n",
    "    print('Tienes una D')\n",
    "elif 50 <= nota_usuario < 60:\n",
    "    print('Tienes una C')\n",
    "elif 60<= nota_usuario < 80:\n",
    "    print('Tienes una B')\n",
    "else:\n",
    "    print('Tienes una A')\n"
   ]
  },
  {
   "attachments": {},
   "cell_type": "markdown",
   "metadata": {},
   "source": [
    "Cread tres inputs donde a cada uno de ellos le preguntéis su edad, el objetivo del ejercicio es determinar quien es el más viejo y el más joven."
   ]
  },
  {
   "cell_type": "code",
   "execution_count": 24,
   "metadata": {},
   "outputs": [],
   "source": [
    "# creamos las tres variables\n",
    "edad1 = int(input('Cuantos años tienes, persona 1?'))\n",
    "edad2 = int(input('Cuantos años tienes, persona 2?'))\n",
    "edad3 = int(input('Cuantos años tienes, persona 3?'))"
   ]
  },
  {
   "cell_type": "code",
   "execution_count": 25,
   "metadata": {},
   "outputs": [
    {
     "name": "stdout",
     "output_type": "stream",
     "text": [
      "persona 1 = 27, persona = 82, persona 3 = 15\n"
     ]
    }
   ],
   "source": [
    "# y las printeamos\n",
    "print(f'persona 1 = {edad1}, persona = {edad2}, persona 3 = {edad3}')"
   ]
  },
  {
   "cell_type": "code",
   "execution_count": 27,
   "metadata": {},
   "outputs": [
    {
     "name": "stdout",
     "output_type": "stream",
     "text": [
      "La persona 2 es la mayor, la persona 3 la menor\n"
     ]
    }
   ],
   "source": [
    "# creamos el programa que nos diga quien es el mayor y quien el más joven de los tres conjuntamente con 'and'\n",
    "if edad1 > edad2 and edad2 > edad3:\n",
    "    print('La persona 1 es el mayor y la persona 3 es la menor')\n",
    "elif edad1 > edad2 and edad3 > edad2:\n",
    "    print('La persona 1 es la mayor y la persona 2, la menor')\n",
    "elif edad2 > edad1 and edad1 > edad3:\n",
    "    print('La persona 2 es la mayor, la persona 3 la menor')\n",
    "elif edad2 > edad3 and edad3 > edad1:\n",
    "    print ('La persona 2 es la mayor, la persona 1 la menor')\n",
    "elif edad3 > edad1  and edad1 > edad2:\n",
    "    print ('La persona 3 es la mayor, la persona 2 la menor')\n",
    "elif edad3 > edad2 and edad2 > edad1:\n",
    "    print ('La persona 3 es la mayor, la persona 1 la menor')\n"
   ]
  },
  {
   "attachments": {},
   "cell_type": "markdown",
   "metadata": {},
   "source": [
    "Escribid un programa que pregunte el nombre del usuario a través de la función input(). \n",
    "\n",
    "Si el nombre es \"Bond\" haced que imprima \"Bienvenido a bordo de 007\". \n",
    "\n",
    "En caso contrario haced que imprima \"Buenos días NOMBRE\". (Reemplace NOMBRE por el nombre del usuario)."
   ]
  },
  {
   "cell_type": "code",
   "execution_count": 36,
   "metadata": {},
   "outputs": [
    {
     "name": "stdout",
     "output_type": "stream",
     "text": [
      "paloma\n"
     ]
    }
   ],
   "source": [
    "# creamos la variable nombre con input\n",
    "nombre1 = input('¿Cómo te llamas?')\n",
    "print(nombre1)"
   ]
  },
  {
   "cell_type": "code",
   "execution_count": 37,
   "metadata": {},
   "outputs": [
    {
     "name": "stdout",
     "output_type": "stream",
     "text": [
      "Un placer conocerte, PALOMA\n"
     ]
    }
   ],
   "source": [
    "# y creamos el bucle con las condiciones especificadas incluyendo que printee el nombre de usuario en mayúsculas para cualquier valor que no sea 'Bond'\n",
    "if nombre1 == 'Bond':\n",
    "    print('Bienvenido a bordo, agente 007')\n",
    "else:\n",
    "    print(f'Un placer conocerte, {nombre1.upper()}')"
   ]
  },
  {
   "attachments": {},
   "cell_type": "markdown",
   "metadata": {},
   "source": [
    "```arbol``` es un diccionario que muestra el número de árboles de países por kilómetro cuadrado para países aleatorios con un número considerable de población. \n",
    "\n",
    "Crea una lista llamada \"masarboles\" que contenga el nombre de los países con más de 40.000 árboles por kilómetro cuadrado.\n",
    "```\n",
    "tree = {\"Taiwan\": 69593,\n",
    "        \"Japan\": 49894, \n",
    "        \"Russia\": 41396, \n",
    "        \"Canada\": 36388, \n",
    "        \"Bulgaria\": 24987}\n",
    "```"
   ]
  },
  {
   "cell_type": "code",
   "execution_count": 56,
   "metadata": {},
   "outputs": [
    {
     "name": "stdout",
     "output_type": "stream",
     "text": [
      "{'Taiwan': 69593, 'Japan': 49894, 'Russia': 41396, 'Canada': 36388, 'Bulgaria': 24987}\n",
      "[]\n"
     ]
    }
   ],
   "source": [
    "# creamos el diccionario\n",
    "arbol = {\"Taiwan\": 69593, \"Japan\": 49894, \"Russia\": 41396, \"Canada\": 36388, \"Bulgaria\": 24987}\n",
    "# y la lista 'masarboles' vacía por el momento\n",
    "masarboles = []\n",
    "print(arbol)\n",
    "print(masarboles)"
   ]
  },
  {
   "cell_type": "code",
   "execution_count": 57,
   "metadata": {},
   "outputs": [
    {
     "name": "stdout",
     "output_type": "stream",
     "text": [
      "['Taiwan', 'Japan', 'Russia', 'Canada', 'Bulgaria']\n"
     ]
    }
   ],
   "source": [
    "# creamos una lista con los nombres de los paises\n",
    "pais_arbol = list(arbol.keys())\n",
    "print(pais_arbol)"
   ]
  },
  {
   "cell_type": "code",
   "execution_count": 58,
   "metadata": {},
   "outputs": [
    {
     "name": "stdout",
     "output_type": "stream",
     "text": [
      " \n",
      " \n",
      "['Taiwan', 'Japan', 'Russia']\n"
     ]
    }
   ],
   "source": [
    "# crearemos un bucle if con cada uno de los árboles en los que, cuando se cumpla la condición, el nombre del pais (guardado en la lista pais_arbol), se añada a la lista nueva\n",
    "if arbol.get('Taiwan') > 40000:\n",
    "    masarboles.append(pais_arbol[0])\n",
    "else:\n",
    "    print(' ')\n",
    "if arbol.get('Japan') > 40000:\n",
    "    masarboles.append(pais_arbol[1])\n",
    "else:\n",
    "    print(' ')\n",
    "if arbol.get('Russia') > 40000:\n",
    "    masarboles.append(pais_arbol[2])\n",
    "else:\n",
    "    print(' ')\n",
    "if arbol.get('Canada') > 40000:\n",
    "    masarboles.append(pais_arbol[3])\n",
    "else:\n",
    "    print(' ')\n",
    "if arbol.get('Bulgaria') > 40000:\n",
    "    masarboles.append(pais_arbol[4])\n",
    "else:\n",
    "    print(' ')\n",
    "    \n",
    "# printemos el resultado final\n",
    "print(masarboles)"
   ]
  },
  {
   "attachments": {},
   "cell_type": "markdown",
   "metadata": {},
   "source": [
    "Escribid un programa que:\n",
    "- Dada la variable z con valor 0, es decir z = 0.\n",
    "- Mientras que el valor de z sea menor que 3:\n",
    "    - Si el valor de z es igual a 0:\n",
    "    - Printead el valor de z\n",
    "    - Almancenad el valor en una lista auxiliar\n",
    "    - Sumadle 1 al valor de z\n",
    "- Si el valor de z es igual a 1:\n",
    "    - Printead el valor de z\n",
    "    - Almancenad el valor en una lista auxiliar\n",
    "    - Sumadle 1 al valor de z\n",
    "- En caso de que no se cumplan las condiciones anteriores:\n",
    "    - Printead el valor de z\n",
    "    - Sumadle 1 al valor de z"
   ]
  },
  {
   "cell_type": "code",
   "execution_count": 17,
   "metadata": {},
   "outputs": [],
   "source": [
    "# primero creamos la variable\n",
    "z = 0 "
   ]
  },
  {
   "cell_type": "code",
   "execution_count": 18,
   "metadata": {},
   "outputs": [
    {
     "name": "stdout",
     "output_type": "stream",
     "text": [
      "z = 0\n",
      "z = 1\n",
      "z = 3\n"
     ]
    }
   ],
   "source": [
    "# especificamos que mientras la variable cumpla la condición while el bucle continuara\n",
    "while z < 3:\n",
    "\n",
    "    if z == 0:\n",
    "        print(f'z = {z}')\n",
    "        lista_z1 = [z]\n",
    "        z += z + 1\n",
    "    elif z == 1:\n",
    "        print(f'z = {z}')\n",
    "        lista_z2 = [z]\n",
    "        z += z + 1\n",
    "    else: \n",
    "        print(f'z = {z}')\n",
    "        z += z + 1\n",
    "\n",
    "#comprobamos el valor de z cuando el bucle finaliza\n",
    "print(f'z = {z}')\n",
    "# Y se para cuando z deja de ser < que 3 como, como indicamos con el 'while'"
   ]
  },
  {
   "attachments": {},
   "cell_type": "markdown",
   "metadata": {},
   "source": [
    "**BONUS** El objetivo de este ejercicio es añadir elementos a una lista utilizando el bucle while:\n",
    "- Cread una lista vacía\n",
    "- Cread una variable cuyo valor sea 0\n",
    "- Mientras que la longitud de la lista creada en el primer paso sea menor que 4:\n",
    "    - Apendead el valor de la variable creada en el paso 2\n",
    "    - Sumad 1 a la variable creada en el paso 2\n",
    "- Por último, printead los valores que hemos añadido en la lista vacía (ya no lo estaría)"
   ]
  },
  {
   "cell_type": "code",
   "execution_count": 37,
   "metadata": {},
   "outputs": [],
   "source": [
    "# creamos la lista y la variable\n",
    "lista = []\n",
    "variable = 0"
   ]
  },
  {
   "cell_type": "code",
   "execution_count": 38,
   "metadata": {},
   "outputs": [
    {
     "name": "stdout",
     "output_type": "stream",
     "text": [
      "[0]\n",
      "[0, 1]\n",
      "[0, 1, 2]\n",
      "[0, 1, 2, 3]\n"
     ]
    }
   ],
   "source": [
    "# construimos el bicle while utilizando el método .append()\n",
    "while len(lista) < 4:\n",
    "    lista.append(variable)\n",
    "    variable += 1\n",
    "    print(lista)"
   ]
  },
  {
   "attachments": {},
   "cell_type": "markdown",
   "metadata": {},
   "source": [
    "**BONUS** El objetivo de este ejercicio es encontrar la suma de números en una lista usando el bucle while:\n",
    "- Cread una variable cuyo valor sea 0, llamadla \"i\"\n",
    "- Cread una lista que contenga los siguientes números: 23,45,12,10,25\n",
    "- Cread una variable cuyo valor sea 0, llamadla \"suma\"\n",
    "- Mientras que el valor de la variable \"i\" sea menor que la longitud de la lista:\n",
    "    - Sumad elemento a elemento los valores de la lista. Es decir, el primero con el segundo; el resultado de la suma anterior más el tercer número, etc\n",
    "    - Sumad 1 a la variable \"i\" por cada iteración por el bucle while\n",
    "- El resultado esperado es 115."
   ]
  },
  {
   "cell_type": "code",
   "execution_count": 52,
   "metadata": {},
   "outputs": [],
   "source": [
    "# creamos las variables y la lista\n",
    "i = 0\n",
    "lista_numeros = [23, 45, 12, 10, 25]\n",
    "suma = 0"
   ]
  },
  {
   "cell_type": "code",
   "execution_count": 53,
   "metadata": {},
   "outputs": [
    {
     "name": "stdout",
     "output_type": "stream",
     "text": [
      "115\n"
     ]
    }
   ],
   "source": [
    "while i < len(lista_numeros):\n",
    "    suma = lista_numeros[0] + lista_numeros[1] + lista_numeros[2] + lista_numeros[3] + lista_numeros[4]\n",
    "    i += 1\n",
    "print(suma)"
   ]
  },
  {
   "attachments": {},
   "cell_type": "markdown",
   "metadata": {},
   "source": [
    "**BONUS** Escribid un programa para una empresa que tiene salas de juegos para todas las edades y quiere calcular de forma automática el precio que debe cobrar a sus clientes por entrar. El programa debe preguntar al usuario la edad del cliente y mostrar el precio de la entrada. Si el cliente es menor de 4 años puede entrar gratis, si tiene entre 4 y 18 años debe pagar 5€ y si es mayor de 18 años, 10€."
   ]
  },
  {
   "cell_type": "code",
   "execution_count": 71,
   "metadata": {},
   "outputs": [
    {
     "name": "stdout",
     "output_type": "stream",
     "text": [
      "2\n"
     ]
    }
   ],
   "source": [
    "# primero creamos la variable de edad_cliente con la funcion input(), convirtiéndolo directamente a integer\n",
    "edad_cliente = int(input('Cuantos años tienes?'))\n",
    "print(edad_cliente)"
   ]
  },
  {
   "cell_type": "code",
   "execution_count": 72,
   "metadata": {},
   "outputs": [
    {
     "name": "stdout",
     "output_type": "stream",
     "text": [
      "Usted puede entrar gratis\n"
     ]
    }
   ],
   "source": [
    "# creamos el programa con el condicional if\n",
    "if edad_cliente < 4:\n",
    "    print('Usted puede entrar gratis')\n",
    "elif edad_cliente == 4 or edad_cliente <= 18:\n",
    "    print('Usted debe pagar 5€')\n",
    "else:\n",
    "    print('Usted debe pagar 10€')"
   ]
  },
  {
   "attachments": {},
   "cell_type": "markdown",
   "metadata": {},
   "source": [
    "**BONUS** La pizzería Bella Napoli ofrece pizzas vegetarianas y no vegetarianas a sus clientes. Los ingredientes para cada tipo de pizza aparecen a continuación.\n",
    "- Ingredientes vegetarianos: Pimiento y tofu.\n",
    "- Ingredientes no vegetarianos: Peperoni, Jamón y Salmón.\n",
    "\n",
    "Escribid un programa que pregunte al usuario si quiere una pizza vegetariana o no, y en función de su respuesta le muestre un menú con los ingredientes disponibles para que elija. Solo se puede eligir un ingrediente además de la mozzarella y el tomate que están en todas la pizzas. Al final se debe mostrar por pantalla si la pizza elegida es vegetariana o no y todos los ingredientes que lleva."
   ]
  },
  {
   "cell_type": "code",
   "execution_count": 2,
   "metadata": {},
   "outputs": [],
   "source": [
    "# creamos dos variables con los ingredientes de las pizzas en formato string\n",
    "vegetariano = 'pimiento o tofu'\n",
    "no_vegetariano = 'peperoni, jamón o salmón'"
   ]
  },
  {
   "cell_type": "code",
   "execution_count": 18,
   "metadata": {},
   "outputs": [
    {
     "name": "stdout",
     "output_type": "stream",
     "text": [
      "Has respondido que si\n"
     ]
    }
   ],
   "source": [
    "# creamos la variable que le pregunte si quiere o no pizza vegetariana\n",
    "pregunta_pizza = input('¿quieres que tu pizza sea vagetariana? Responde escribiendo si o no')\n",
    "\n",
    "# como no sabemos cómo escribirá el usuario su input, nos aseguramos de que tenga el formato deseado\n",
    "if pregunta_pizza == 'sí':\n",
    "    pregunta_pizza = 'si'\n",
    "    print(f'Has respondido que {pregunta_pizza}')\n",
    "else:\n",
    "    print(f'Has respondido que {pregunta_pizza}')\n",
    "pregunta_pizza = pregunta_pizza.lower()"
   ]
  },
  {
   "cell_type": "code",
   "execution_count": 26,
   "metadata": {},
   "outputs": [
    {
     "name": "stdout",
     "output_type": "stream",
     "text": [
      "Has pedido una pizza vegetariana con mozzarella, tomate y tofu\n"
     ]
    }
   ],
   "source": [
    "# Ahora podemos crear el programa que le muestre al cliente las opciones de ingredientes según \n",
    "if pregunta_pizza == 'si':\n",
    "    eleccion1 = input('La pizza vegetariana lleva mozzarella, tomate y un ingrediente a elegir entre pimiento o tofu ¿Cual prefieres?')\n",
    "    if eleccion1 == 'pimiento':\n",
    "        print('Has pedido una pizza vegetariana con mozzarella, tomate y pimiento')\n",
    "    elif eleccion1 == 'tofu':\n",
    "                print('Has pedido una pizza vegetariana con mozzarella, tomate y tofu')\n",
    "    else:\n",
    "        print('No tenemos esa opción en el menú')\n",
    "elif pregunta_pizza == 'no':\n",
    "    eleccion2 = input(f'La pizza no vegetariana lleva mozzarella, tomate y un ingrediente a elegir entre el peperoni, jamón o salmón ¿Cual eliges?')\n",
    "    if eleccion2 == 'peperoni':\n",
    "        print('Has pedido una pizza no vegetariana con mozzarella, tomate y peperoni')\n",
    "    elif eleccion2 == 'jamon' or eleccion2 =='jamón':\n",
    "        print('Has pedido una pizza vegetariana con mozzarella, tomate y jamón')\n",
    "    elif eleccion2 == 'salmón' or eleccion2 =='salmon':\n",
    "        print('Has pedido una pizza vegetariana con mozzarella, tomate y salmón')\n",
    "    else:\n",
    "        print('No tenemos esa opción en el menú')\n"
   ]
  }
 ],
 "metadata": {
  "kernelspec": {
   "display_name": "Python 3",
   "language": "python",
   "name": "python3"
  },
  "language_info": {
   "codemirror_mode": {
    "name": "ipython",
    "version": 3
   },
   "file_extension": ".py",
   "mimetype": "text/x-python",
   "name": "python",
   "nbconvert_exporter": "python",
   "pygments_lexer": "ipython3",
   "version": "3.11.2"
  },
  "orig_nbformat": 4
 },
 "nbformat": 4,
 "nbformat_minor": 2
}
