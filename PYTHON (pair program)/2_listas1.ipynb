{
 "cells": [
  {
   "attachments": {},
   "cell_type": "markdown",
   "metadata": {},
   "source": [
    "# PAIRPROGRAMMING - LISTAS 1"
   ]
  },
  {
   "attachments": {},
   "cell_type": "markdown",
   "metadata": {},
   "source": [
    "Usando la función input, cread un programa que pregunte al usuario por el nombre de tres amig@s."
   ]
  },
  {
   "cell_type": "code",
   "execution_count": 26,
   "metadata": {},
   "outputs": [
    {
     "name": "stdout",
     "output_type": "stream",
     "text": [
      "Luis,Elisa,Paloma\n"
     ]
    }
   ],
   "source": [
    "# creamos una variable para guardar el input y hacemos print para v\n",
    "nombres = input(\"¿Dime el nombre de tres de tus amistades separándolos por comas y sin espacios?\")\n",
    "print(nombres)"
   ]
  },
  {
   "attachments": {},
   "cell_type": "markdown",
   "metadata": {},
   "source": [
    "Almacenad los resultados del paso anterior en una lista. "
   ]
  },
  {
   "cell_type": "code",
   "execution_count": 33,
   "metadata": {},
   "outputs": [
    {
     "name": "stdout",
     "output_type": "stream",
     "text": [
      "['Luis', 'Elisa', 'Paloma']\n"
     ]
    }
   ],
   "source": [
    "# creamos una nueva variable para la lista de nombres separandolos por la \",\" con el método .split()\n",
    "lista_nombres = nombres.split(\",\")\n",
    "print(lista_nombres)"
   ]
  },
  {
   "attachments": {},
   "cell_type": "markdown",
   "metadata": {},
   "source": [
    "Usando la función input, cread un programa que ahora le pregunte al usuario por las alturas de sus amig@s. Y almacenar los resultados en una lista.\n",
    "``` py\n",
    "Esto os devolverá una lista de strings similar a esta:\n",
    "```\n",
    "lista_alturas = ['1.45', ' 1.67', ' 1.57']"
   ]
  },
  {
   "cell_type": "code",
   "execution_count": 28,
   "metadata": {},
   "outputs": [
    {
     "name": "stdout",
     "output_type": "stream",
     "text": [
      "1.61,1.72,1.85\n"
     ]
    }
   ],
   "source": [
    "# creamos una variable para guardas las edades que facilite el usuaruo\n",
    "alturas = input(\"Cual es la altura de cada uno de tus amigos separadas por comas y sin espacios?\")\n",
    "print(alturas)"
   ]
  },
  {
   "cell_type": "code",
   "execution_count": 29,
   "metadata": {},
   "outputs": [
    {
     "name": "stdout",
     "output_type": "stream",
     "text": [
      "['1.61', '1.72', '1.85']\n"
     ]
    }
   ],
   "source": [
    "# convertimos el string que devuelve la función input en una lista utilizando el método split, separándo los elementos por la (,)\n",
    "lista_alturas = alturas.split(',')\n",
    "print(lista_alturas)\n"
   ]
  },
  {
   "cell_type": "code",
   "execution_count": 30,
   "metadata": {},
   "outputs": [
    {
     "name": "stdout",
     "output_type": "stream",
     "text": [
      " El elemento  de la lista de alturas 1.61 es de tipo <class 'float'>\n"
     ]
    }
   ],
   "source": [
    "# convertimos los elementos de la lista, que por defecto son str, a float para que los python los entienda como un valor numérico y así poder hacer operaciones con ellas:\n",
    "lista_alturas = [float(i) for i in lista_alturas]\n",
    "\n",
    "# comprobamos que se los elementos han cambiado de tipo correctamente\n",
    "print(f' El elemento  de la lista de alturas {lista_alturas[0]} es de tipo {type(lista_alturas[0])}')"
   ]
  },
  {
   "attachments": {},
   "cell_type": "markdown",
   "metadata": {},
   "source": [
    "Ordenad las dos listas de mayor a menor. ¿Lo podréis hacer para la lista de nombres?"
   ]
  },
  {
   "cell_type": "code",
   "execution_count": 31,
   "metadata": {},
   "outputs": [
    {
     "name": "stdout",
     "output_type": "stream",
     "text": [
      "[1.85, 1.72, 1.61]\n"
     ]
    }
   ],
   "source": [
    "# para ordenar la lista de mayor a menor tenemos que utilizar el metodo sort(). Añadimos la especificación 'reverse=True' porque sort() ordena por defecto de manera ascendente.\n",
    "lista_alturas.sort(reverse=True)\n",
    "print(lista_alturas)"
   ]
  },
  {
   "cell_type": "code",
   "execution_count": 34,
   "metadata": {},
   "outputs": [
    {
     "name": "stdout",
     "output_type": "stream",
     "text": [
      "['Elisa', 'Luis', 'Paloma']\n"
     ]
    }
   ],
   "source": [
    "# usamos el mismo método para la lista de nombres, primero sin especificaciones\n",
    "lista_nombres.sort()\n",
    "print(lista_nombres)\n",
    "\n",
    "# Los strings se ordenan alfabéticamente por defecto"
   ]
  },
  {
   "attachments": {},
   "cell_type": "markdown",
   "metadata": {},
   "source": [
    "- ¿Cuál es la altura máxima de todos nuestros amig@s?\n",
    "- ¿Cuál es la altura máxima de todos nuestros amig@s?"
   ]
  },
  {
   "cell_type": "code",
   "execution_count": 35,
   "metadata": {},
   "outputs": [
    {
     "name": "stdout",
     "output_type": "stream",
     "text": [
      "La altura máxima de entre tus amigos es de 1.85\n",
      "La altura minima de entre tus amigos es de 1.61\n"
     ]
    }
   ],
   "source": [
    "# calculamos la altura máxima con la funcion max() y la altura mínima con min():\n",
    "print(f'La altura máxima de entre tus amigos es de {max(lista_alturas)}')\n",
    "print(f'La altura minima de entre tus amigos es de {min(lista_alturas)}')"
   ]
  },
  {
   "attachments": {},
   "cell_type": "markdown",
   "metadata": {},
   "source": [
    "Dadas las siguientes listas:\n",
    "```\n",
    "lista1 = [44, 55, 67, 44, 98, 29]\n",
    "lista2 = [34, 56, 56, 78, 67, 56]\n",
    "```\n",
    "Unid las dos listas de forma que consigamos el siguiente output. Almacenad los resultados en una nueva variable y llamadla lista_lista.\n",
    "```\n",
    "lista_lista = [[44, 55, 67, 44, 98, 29], [34, 56, 56, 78, 67, 56]]\n",
    "```"
   ]
  },
  {
   "cell_type": "code",
   "execution_count": 37,
   "metadata": {},
   "outputs": [
    {
     "name": "stdout",
     "output_type": "stream",
     "text": [
      "[[44, 55, 67, 44, 98, 29], [34, 56, 56, 78, 67, 56]]\n"
     ]
    }
   ],
   "source": [
    "# primero definimos las variables\n",
    "lista1 = [44, 55, 67, 44, 98, 29]\n",
    "lista2 = [34, 56, 56, 78, 67, 56]\n",
    "\n",
    "# después queremos unirlas de manera en que la variable resultante sea una lista que contiene las otras dos listas, no que las fusione en una. Para ello utilizamos la(',')\n",
    "lista_lista = [lista1, lista2]\n",
    "\n",
    "#imprimimos el resultado para comprobar que todo está correcto\n",
    "print(lista_lista)"
   ]
  },
  {
   "attachments": {},
   "cell_type": "markdown",
   "metadata": {},
   "source": [
    "Unid las dos listas de forma que consigamos el siguiente output. Almacenad los resultados en una nueva variable y llamadla lista_numeros."
   ]
  },
  {
   "cell_type": "code",
   "execution_count": 39,
   "metadata": {},
   "outputs": [
    {
     "name": "stdout",
     "output_type": "stream",
     "text": [
      "[44, 55, 67, 44, 98, 29, 34, 56, 56, 78, 67, 56]\n"
     ]
    }
   ],
   "source": [
    "# ahora queremos fusionar las dos listas en una sola, para eso utilizamos el operador ('+')\n",
    "lista_numeros = lista1 + lista2\n",
    "\n",
    "# imprimimos para comprobar que es correcto\n",
    "print(lista_numeros)"
   ]
  },
  {
   "attachments": {},
   "cell_type": "markdown",
   "metadata": {},
   "source": [
    "De la lista lista_lista, ¿cuántas veces aparece el número 67? ¿y en la lista lista_numeros. De la lista lista_lista, ¿cuántas veces aparece el número 67? ¿y en la lista lista_numeros."
   ]
  },
  {
   "cell_type": "code",
   "execution_count": 41,
   "metadata": {},
   "outputs": [
    {
     "name": "stdout",
     "output_type": "stream",
     "text": [
      "lista_lista = 0\n",
      "lista_numeros = 2\n"
     ]
    }
   ],
   "source": [
    "# para contar cuantas veces aparece un elemento en una lista utilizamos el método .count()\n",
    "print(\"lista_lista =\", lista_lista.count(67))\n",
    "print(\"lista_numeros =\", lista_numeros.count(67))\n",
    "\n",
    "# el resultado es diferente porque en lista_lista recoge cada sublista que lo compone como un eleménto individual - no contiene floats individuales, contiene listas"
   ]
  },
  {
   "attachments": {},
   "cell_type": "markdown",
   "metadata": {},
   "source": [
    "Usando la lista_numeros, dadle la vuelta a la lista."
   ]
  },
  {
   "cell_type": "code",
   "execution_count": 42,
   "metadata": {},
   "outputs": [
    {
     "name": "stdout",
     "output_type": "stream",
     "text": [
      "[56, 67, 78, 56, 56, 34, 29, 98, 44, 67, 55, 44]\n"
     ]
    }
   ],
   "source": [
    "# para darle la vuelta a una lista hay que utilizar el método .reverse()\n",
    "lista_numeros.reverse()\n",
    "print(lista_numeros)"
   ]
  }
 ],
 "metadata": {
  "kernelspec": {
   "display_name": "adalabenv",
   "language": "python",
   "name": "python3"
  },
  "language_info": {
   "codemirror_mode": {
    "name": "ipython",
    "version": 3
   },
   "file_extension": ".py",
   "mimetype": "text/x-python",
   "name": "python",
   "nbconvert_exporter": "python",
   "pygments_lexer": "ipython3",
   "version": "3.10.9"
  },
  "orig_nbformat": 4
 },
 "nbformat": 4,
 "nbformat_minor": 2
}
