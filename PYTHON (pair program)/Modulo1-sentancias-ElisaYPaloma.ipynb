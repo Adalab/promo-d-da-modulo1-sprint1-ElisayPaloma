{
 "cells": [
  {
   "attachments": {},
   "cell_type": "markdown",
   "metadata": {},
   "source": [
    "En la escuela donde trabajamos tienen el siguiente sistema de notas:\n",
    "- Below 25 - F\n",
    "- 25 to 45 - E\n",
    "- 45 to 50 - D\n",
    "- 50 to 60 - C\n",
    "- 60 to 80 - B\n",
    "- Above 80 - A\n",
    "\n",
    "El objetivo de este ejercicio es que le preguntéis al usuario por una nota (numérica) y nosotros le devolvamos la nota con la letra que le corresponde."
   ]
  },
  {
   "cell_type": "code",
   "execution_count": 18,
   "metadata": {},
   "outputs": [
    {
     "name": "stdout",
     "output_type": "stream",
     "text": [
      "92\n"
     ]
    }
   ],
   "source": [
    "# creamos nuestra variable asociad al input\n",
    "nota = int(input(\"¿Cuál e ru nota del 1 al 10?\"))\n",
    "print(nota)\n"
   ]
  },
  {
   "cell_type": "code",
   "execution_count": 19,
   "metadata": {},
   "outputs": [
    {
     "name": "stdout",
     "output_type": "stream",
     "text": [
      "Tienes una A\n"
     ]
    }
   ],
   "source": [
    "if nota < 25:\n",
    "    print(\"Tienes una F\")\n",
    "elif 25 <= nota < 45:\n",
    "    print(\"Tienes una E\")\n",
    "elif 45 <= nota < 50:\n",
    "    print (\"Tienes una D\")\n",
    "elif 50 <= nota < 60:\n",
    "    print(\"Tienes una C\")\n",
    "elif 60 <= nota <= 80:\n",
    "    print (\"Tienes una B\")\n",
    "else:\n",
    "    print(\"Tienes una A\")   \n",
    "    "
   ]
  },
  {
   "attachments": {},
   "cell_type": "markdown",
   "metadata": {},
   "source": [
    "Cread tres inputs donde a cada uno de ellos le preguntéis su edad, el objetivo del ejercicio es determinar quien es el más viejo y el más joven."
   ]
  },
  {
   "cell_type": "code",
   "execution_count": 21,
   "metadata": {},
   "outputs": [],
   "source": [
    "edad1 = int(input(\"¿cuántos años tiene 1\"))\n",
    "edad2 = int(input(\"¿cuántos años tiene 2\"))\n",
    "edad3 = int(input(\"¿cuántos años tiene 3\"))"
   ]
  },
  {
   "cell_type": "code",
   "execution_count": 23,
   "metadata": {},
   "outputs": [
    {
     "name": "stdout",
     "output_type": "stream",
     "text": [
      "[20, 25, 30]\n"
     ]
    }
   ],
   "source": [
    "lista_edades = [edad1, edad2, edad3]\n",
    "print(lista_edades)"
   ]
  },
  {
   "cell_type": "code",
   "execution_count": null,
   "metadata": {},
   "outputs": [],
   "source": []
  }
 ],
 "metadata": {
  "kernelspec": {
   "display_name": "base",
   "language": "python",
   "name": "python3"
  },
  "language_info": {
   "codemirror_mode": {
    "name": "ipython",
    "version": 3
   },
   "file_extension": ".py",
   "mimetype": "text/x-python",
   "name": "python",
   "nbconvert_exporter": "python",
   "pygments_lexer": "ipython3",
   "version": "3.9.7"
  },
  "orig_nbformat": 4
 },
 "nbformat": 4,
 "nbformat_minor": 2
}
