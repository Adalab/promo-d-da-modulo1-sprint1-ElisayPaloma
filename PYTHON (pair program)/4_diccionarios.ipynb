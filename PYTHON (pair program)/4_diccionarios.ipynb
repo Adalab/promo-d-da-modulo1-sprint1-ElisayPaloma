{
 "cells": [
  {
   "attachments": {},
   "cell_type": "markdown",
   "metadata": {},
   "source": [
    "# PAIRPROGRAMMING - DICCIONARIOS"
   ]
  },
  {
   "attachments": {},
   "cell_type": "markdown",
   "metadata": {},
   "source": [
    "Lo primero que haremos será contruir un diccionario paso a paso. Nuestro diccionario estará compuesto por:\n",
    "\n",
    "Cuatro keys que serán:\n",
    ". nombres\n",
    ". apellidos\n",
    ". edades\n",
    ". hijos"
   ]
  },
  {
   "cell_type": "code",
   "execution_count": 1,
   "metadata": {},
   "outputs": [],
   "source": [
    "# creamos el diccionario con las keys pero por el momento sin values:\n",
    "diccionario = {'nombres':[], 'apellidos':[], 'edades':[], 'hijos':[]}"
   ]
  },
  {
   "attachments": {},
   "cell_type": "markdown",
   "metadata": {},
   "source": [
    "Cread un input que pregunte a la usuaria por tres nombres. Almacenad el resultado en una lista. Esta lista será el value de la key nombres"
   ]
  },
  {
   "cell_type": "code",
   "execution_count": 5,
   "metadata": {},
   "outputs": [
    {
     "name": "stdout",
     "output_type": "stream",
     "text": [
      "['Elisa', 'Paloma', 'Diego']\n"
     ]
    }
   ],
   "source": [
    "# creamos una variable donde contener los tres nombres\n",
    "nombres = input(\"Dime el nombre de tres amigos separándolos por comas y sin espacios\")\n",
    "# y los almacenamos en una lista usando el método split creando una nueva variable\n",
    "lista_nombres = nombres.split(',')\n",
    "print(lista_nombres)"
   ]
  },
  {
   "attachments": {},
   "cell_type": "markdown",
   "metadata": {},
   "source": [
    "Cread un input que pregunte a la usuaria por tres apellidos. Convertir el resultado en lista y este será el value de la key apellidos."
   ]
  },
  {
   "cell_type": "code",
   "execution_count": 7,
   "metadata": {},
   "outputs": [
    {
     "name": "stdout",
     "output_type": "stream",
     "text": [
      "['Jimenez', 'Meson', 'Ganuza']\n"
     ]
    }
   ],
   "source": [
    "# repetimos el mismo proceso que con los nombres pero con apellidos\n",
    "apellidos = input(\"Ahora dime los apellidos de tus tres amigos separandolos por comas y sin espacios\")\n",
    "lista_apellidos = apellidos.split(',')\n",
    "print(lista_apellidos)"
   ]
  },
  {
   "attachments": {},
   "cell_type": "markdown",
   "metadata": {},
   "source": [
    "Cread un input que pregunte a la usuaria por tres edades. Almancenad los resultados en una lista. Esta lista será el value de la key edades."
   ]
  },
  {
   "cell_type": "code",
   "execution_count": 9,
   "metadata": {},
   "outputs": [
    {
     "name": "stdout",
     "output_type": "stream",
     "text": [
      "['31', '33', '47']\n"
     ]
    }
   ],
   "source": [
    "# lo mismo con edades\n",
    "edades = input(\"¿Cuales son sus edades? Separa por comas y sin espacios, por favor\")\n",
    "lista_edades = edades.split(\",\")\n",
    "print(lista_edades)"
   ]
  },
  {
   "cell_type": "code",
   "execution_count": 25,
   "metadata": {},
   "outputs": [
    {
     "data": {
      "text/plain": [
       "['31', '33', '47']"
      ]
     },
     "execution_count": 25,
     "metadata": {},
     "output_type": "execute_result"
    }
   ],
   "source": [
    "lista_edades"
   ]
  },
  {
   "attachments": {},
   "cell_type": "markdown",
   "metadata": {},
   "source": [
    "Cread un input que pregunte a la usuaria por el número de hijos. Almacenad este resultado en una lista. Esta lista será el value de la key hijos."
   ]
  },
  {
   "cell_type": "code",
   "execution_count": 18,
   "metadata": {},
   "outputs": [
    {
     "name": "stdout",
     "output_type": "stream",
     "text": [
      "['3', '2', '1']\n"
     ]
    }
   ],
   "source": [
    "# y finalmente lo mismo con hijos\n",
    "hijos = input(\"¿Cuantos hijos tienen? Responde con un valor numérico, separando con comas y sin espacios.\")\n",
    "lista_hijos = hijos.split(',')\n",
    "print(lista_hijos)"
   ]
  },
  {
   "attachments": {},
   "cell_type": "markdown",
   "metadata": {},
   "source": [
    "Cread un diccionario con los resultados del input. Al final de todos estos pasos deberíamos tener un diccionario similar a este:\n",
    "```\n",
    "{'nombres': ['Lara', ' Alejandro', ' Ana'],\n",
    "  'apellidos': ['Lopez', ' Martin', ' Solo'],\n",
    "  'edades': [34, 20, 28],\n",
    "  'hijos': [2, 0, 1]}\n",
    "  ```"
   ]
  },
  {
   "cell_type": "code",
   "execution_count": 29,
   "metadata": {},
   "outputs": [
    {
     "data": {
      "text/plain": [
       "(31, 33, 47)"
      ]
     },
     "execution_count": 29,
     "metadata": {},
     "output_type": "execute_result"
    }
   ],
   "source": [
    "int(lista_edades[0]), int(lista_edades[1]), int(lista_edades[2])\n"
   ]
  },
  {
   "cell_type": "code",
   "execution_count": 34,
   "metadata": {},
   "outputs": [
    {
     "name": "stdout",
     "output_type": "stream",
     "text": [
      "[31, 33, 47]\n",
      "<class 'list'>\n",
      "[3, 2, 1]\n",
      "<class 'list'>\n"
     ]
    }
   ],
   "source": [
    "# antes de nada vamos a tener que convertir los elementos de las listas de edades y nº de hijos a variables numércias (int) ya que la función input por defecto nos devuelve strings\n",
    "lista_edades = [int(lista_edades[0]), int(lista_edades[1]), int(lista_edades[2])]\n",
    "print(lista_edades)\n",
    "print(type(lista_edades))\n",
    "#\n",
    "lista_hijos = [int(lista_hijos[0]), int(lista_hijos[1]), int(lista_hijos[2])]\n",
    "print(lista_hijos)\n",
    "print(type(lista_hijos))"
   ]
  },
  {
   "cell_type": "code",
   "execution_count": 39,
   "metadata": {},
   "outputs": [
    {
     "name": "stdout",
     "output_type": "stream",
     "text": [
      "{'nombres': ['Elisa', 'Paloma', 'Diego'], 'apellidos': ['Jimenez', 'Meson', 'Ganuza'], 'edades': [31, 33, 47], 'hijos': [3, 2, 1]}\n"
     ]
    }
   ],
   "source": [
    "# ahora ya podemos incluir incluir los elemento de las listas en nuestro diccionario con el método .update({})\n",
    "diccionario.update({'nombres':lista_nombres, 'apellidos':lista_apellidos, 'edades':lista_edades, 'hijos':lista_hijos})\n",
    "print(diccionario)"
   ]
  },
  {
   "attachments": {},
   "cell_type": "markdown",
   "metadata": {},
   "source": [
    "Una vez tengáis creado el diccionario, añadid una nueva key donde tengamos la información sobre el número de hermanos."
   ]
  },
  {
   "cell_type": "code",
   "execution_count": 41,
   "metadata": {},
   "outputs": [
    {
     "name": "stdout",
     "output_type": "stream",
     "text": [
      "[2, 2, 1]\n"
     ]
    }
   ],
   "source": [
    "# primero creamos la variable y la convertimos en una lista con los métodos input y split, transformándolos en integers\n",
    "hermanos = input(\"¿Cuántos hermanos tienen cada uno de ellos? Separa la respuesta por comas y sin espacios\")\n",
    "lista_hermanos = hermanos.split(',')\n",
    "lista_hermanos = [int(lista_hermanos[0]), int(lista_hermanos[1]), int(lista_hermanos[2])]\n",
    "print(lista_hermanos)"
   ]
  },
  {
   "cell_type": "code",
   "execution_count": 42,
   "metadata": {},
   "outputs": [
    {
     "name": "stdout",
     "output_type": "stream",
     "text": [
      "{'nombres': ['Elisa', 'Paloma', 'Diego'], 'apellidos': ['Jimenez', 'Meson', 'Ganuza'], 'edades': [31, 33, 47], 'hijos': [3, 2, 1], 'hermanos': [2, 2, 1]}\n"
     ]
    }
   ],
   "source": [
    "# incluimos la nueva key y su value (lista) en nuestro diccionario\n",
    "diccionario['hermanos'] = lista_hermanos\n",
    "print(diccionario)"
   ]
  },
  {
   "attachments": {},
   "cell_type": "markdown",
   "metadata": {},
   "source": [
    "¿Cúales son las keys de nuestro diccionario? ¿Y los values?"
   ]
  },
  {
   "cell_type": "code",
   "execution_count": 44,
   "metadata": {},
   "outputs": [
    {
     "name": "stdout",
     "output_type": "stream",
     "text": [
      "Las keys de nuestro diccionario son: dict_keys(['nombres', 'apellidos', 'edades', 'hijos', 'hermanos'])\n",
      "Los values de nuestro diccionario son: dict_values([['Elisa', 'Paloma', 'Diego'], ['Jimenez', 'Meson', 'Ganuza'], [31, 33, 47], [3, 2, 1], [2, 2, 1]])\n"
     ]
    }
   ],
   "source": [
    "# para averiguar las keys y los values utilizamos los métodos de listas .keys() y .values()\n",
    "print(f'Las keys de nuestro diccionario son: {diccionario.keys()}')\n",
    "print(f'Los values de nuestro diccionario son: {diccionario.values()}')"
   ]
  },
  {
   "attachments": {},
   "cell_type": "markdown",
   "metadata": {},
   "source": [
    "Para extraer los values de una key podemos hacerlo de varias formas.\n",
    "- Extraed los valores de la key nombres. Utilizad dos métodos diferentes."
   ]
  },
  {
   "cell_type": "code",
   "execution_count": 46,
   "metadata": {},
   "outputs": [
    {
     "name": "stdout",
     "output_type": "stream",
     "text": [
      "['Elisa', 'Paloma', 'Diego']\n",
      "[3, 2, 1]\n"
     ]
    }
   ],
   "source": [
    "# podemos extraer el value de una key escribiendolo entre corchetes\n",
    "print(diccionario[\"nombres\"])\n",
    "# o con el método .get()\n",
    "print(diccionario.get('hijos'))"
   ]
  },
  {
   "attachments": {},
   "cell_type": "markdown",
   "metadata": {},
   "source": [
    "Extraed los valores de la key nacionalidad. En caso de que no exista, cread esa key con el value \"desconocida\"."
   ]
  },
  {
   "cell_type": "code",
   "execution_count": 63,
   "metadata": {},
   "outputs": [
    {
     "name": "stdout",
     "output_type": "stream",
     "text": [
      "desconocida\n",
      "{'nombres': ['Elisa', 'Paloma', 'Diego'], 'apellidos': ['Jimenez', 'Meson', 'Ganuza'], 'edades': [31, 33, 47], 'hijos': [3, 2, 1], 'hermanos': [2, 2, 1], 'nacionalidad': 'desconocida'}\n",
      "{'nombres': ['Elisa', 'Paloma', 'Diego'], 'apellidos': ['Jimenez', 'Meson', 'Ganuza'], 'edades': [31, 33, 47], 'hijos': [3, 2, 1], 'hermanos': [2, 2, 1], 'nacionalidad': 'desconocida'}\n"
     ]
    }
   ],
   "source": [
    "# el método .setdefault busca un value según la key -igual que .get()- pero en este caso, si no existe la crea\n",
    "print(diccionario.setdefault(\"nacionalidad\"))\n",
    "# ahora tenemos que inluir la información en la key\n",
    "diccionario['nacionalidad'] = 'desconocida'\n",
    "print(diccionario)\n",
    "\n",
    "# esto mismo se podría haber conseguido de un solo paso realizando el seguinte comando:\n",
    "diccionario['nacionalidad'] = 'desconocida'\n",
    "print(diccionario)"
   ]
  },
  {
   "attachments": {},
   "cell_type": "markdown",
   "metadata": {},
   "source": [
    "Ordena los elementos del diccionario basándonos en las keys y los values. Esto nos devuelve una lista de tuplas(todavía no hemos visto este tipo de datos, pero lo veremos en la lección de mañana). Convertid esta lista de tuplas en diccionario."
   ]
  },
  {
   "cell_type": "code",
   "execution_count": 65,
   "metadata": {},
   "outputs": [
    {
     "name": "stdout",
     "output_type": "stream",
     "text": [
      "[('apellidos', ['Jimenez', 'Meson', 'Ganuza']), ('edades', [31, 33, 47]), ('hermanos', [2, 2, 1]), ('hijos', [3, 2, 1]), ('nacionalidad', 'desconocida'), ('nombres', ['Elisa', 'Paloma', 'Diego'])]\n",
      "<class 'tuple'>\n"
     ]
    }
   ],
   "source": [
    "# el método sorted() ordena los diccionarios por defecto según las keys, por lo que si queremos ambos elementos tenemos que utilizar el .items()\n",
    "diccionario_ordenado = sorted(diccionario.items())\n",
    "print(diccionario_ordenado)\n"
   ]
  },
  {
   "cell_type": "code",
   "execution_count": 69,
   "metadata": {},
   "outputs": [
    {
     "name": "stdout",
     "output_type": "stream",
     "text": [
      "{'apellidos': ['Jimenez', 'Meson', 'Ganuza'], 'edades': [31, 33, 47], 'hermanos': [2, 2, 1], 'hijos': [3, 2, 1], 'nacionalidad': 'desconocida', 'nombres': ['Elisa', 'Paloma', 'Diego']}\n"
     ]
    }
   ],
   "source": [
    "#finalmente convertimos el la lista a un diccionario con el método dict()\n",
    "diccionario_ordenado = dict(diccionario_ordenado)\n",
    "print(diccionario_ordenado)"
   ]
  },
  {
   "attachments": {},
   "cell_type": "markdown",
   "metadata": {},
   "source": [
    "Eliminad la key de \"nacionalidad\""
   ]
  },
  {
   "cell_type": "code",
   "execution_count": 70,
   "metadata": {},
   "outputs": [
    {
     "name": "stdout",
     "output_type": "stream",
     "text": [
      "{'nombres': ['Elisa', 'Paloma', 'Diego'], 'apellidos': ['Jimenez', 'Meson', 'Ganuza'], 'edades': [31, 33, 47], 'hijos': [3, 2, 1], 'hermanos': [2, 2, 1]}\n",
      "{'apellidos': ['Jimenez', 'Meson', 'Ganuza'], 'edades': [31, 33, 47], 'hermanos': [2, 2, 1], 'hijos': [3, 2, 1], 'nacionalidad': 'desconocida', 'nombres': ['Elisa', 'Paloma', 'Diego']}\n"
     ]
    }
   ],
   "source": [
    "# primero recordamos tanto el diccionario como el diccionario ordenado:\n",
    "print(diccionario)\n",
    "print(diccionario_ordenado) "
   ]
  },
  {
   "cell_type": "code",
   "execution_count": 90,
   "metadata": {},
   "outputs": [
    {
     "name": "stdout",
     "output_type": "stream",
     "text": [
      "{'nombres': ['Elisa', 'Paloma', 'Diego'], 'apellidos': ['Jimenez', 'Meson', 'Ganuza'], 'edades': [31, 33, 47], 'hijos': [3, 2, 1], 'hermanos': [2, 2, 1]}\n"
     ]
    }
   ],
   "source": [
    "# para borrar 'nacionalidad' de 'diccionario' podemos usar dos métodos: bien .pop() y especificar o, al ser el último par podemos emplear directamente pop item:\n",
    "\n",
    "# Lo comentamos para que no se vuelva a ejecutar el popoitem() y elimine un nuevo elemento\n",
    "# diccionario.popitem() \n",
    "print(diccionario)"
   ]
  },
  {
   "cell_type": "code",
   "execution_count": 92,
   "metadata": {},
   "outputs": [
    {
     "name": "stdout",
     "output_type": "stream",
     "text": [
      "{'apellidos': ['Jimenez', 'Meson', 'Ganuza'], 'edades': [31, 33, 47], 'hermanos': [2, 2, 1], 'hijos': [3, 2, 1], 'nombres': ['Elisa', 'Paloma', 'Diego']}\n"
     ]
    }
   ],
   "source": [
    "# para borrarlo de diccionario_ordenado podemos usar el metodo .pop() y especificar la key que queremos eliminar\n",
    "\n",
    "# diccionario_ordenado.pop('nacionalidad') - una vez eliminado, si vuelves a ejecutar da error\n",
    "print(diccionario_ordenado)"
   ]
  },
  {
   "attachments": {},
   "cell_type": "markdown",
   "metadata": {},
   "source": [
    "Utilizando métodos de Python. ¿Qué persona tiene mayor número de hijos? ¿Y quién es la más joven?"
   ]
  },
  {
   "cell_type": "code",
   "execution_count": 123,
   "metadata": {},
   "outputs": [
    {
     "name": "stdout",
     "output_type": "stream",
     "text": [
      "El numero más alto de hijos es 3\n",
      "El índice que corresponde al número 3 en la lista de hijos es 0\n",
      "Quien tiene mayor número de hijos es Elisa\n"
     ]
    }
   ],
   "source": [
    "# para saber quien tiene el mayor numero de hijos utilizamos la funciona max() en la lista de values asociada a la key 'hijos'\n",
    "print('El numero más alto de hijos es', max(diccionario['hijos']))\n",
    "\n",
    "# Ahora tenemos que descibir a que índice corresponde ese número en la lista de values. Para ello utilizamos el método .index() \n",
    "print('El índice que corresponde al número 3 en la lista de hijos es', diccionario['hijos'].index(3))\n",
    "\n",
    "# finalmente, buscamos el value asociado al index(0) en la lista de 'nombres'\n",
    "print('Quien tiene mayor número de hijos es', diccionario['nombres'][0])\n",
    "\n"
   ]
  },
  {
   "cell_type": "code",
   "execution_count": 132,
   "metadata": {},
   "outputs": [
    {
     "name": "stdout",
     "output_type": "stream",
     "text": [
      "La persona que tiene más hijos es Elisa\n"
     ]
    }
   ],
   "source": [
    "\"\"\"\"\n",
    "este proceso se podría haber realizado en una sola línea de código donde:\n",
    "- primero indicamos que queremos de la lista de nombres - diccionario['nombres']- \n",
    "- solo uno de los elementos de la lista usando un segundo con el index - diccionario['hijos'].index() -\n",
    "- este index será el mismo que el índex del elemento de la lista 'hijos' con el mayor número - max(diccionario['hijos'])-\n",
    "\n",
    "Todo unido en una sola línea seria:\n",
    "\"\"\"\n",
    "print('La persona que tiene más hijos es', diccionario['nombres'][diccionario['hijos'].index(max(diccionario['hijos']))])"
   ]
  },
  {
   "cell_type": "code",
   "execution_count": 131,
   "metadata": {},
   "outputs": [
    {
     "name": "stdout",
     "output_type": "stream",
     "text": [
      "La persona más jóven es Elisa\n"
     ]
    }
   ],
   "source": [
    "# usamos el mismo métido para comprobar quien es la persona más jóven, esta vez utilizando min() en el index:\n",
    "print('La persona más jóven es', diccionario['nombres'][diccionario['edades'].index(min(diccionario['edades']))])"
   ]
  }
 ],
 "metadata": {
  "kernelspec": {
   "display_name": "adalabenv",
   "language": "python",
   "name": "python3"
  },
  "language_info": {
   "codemirror_mode": {
    "name": "ipython",
    "version": 3
   },
   "file_extension": ".py",
   "mimetype": "text/x-python",
   "name": "python",
   "nbconvert_exporter": "python",
   "pygments_lexer": "ipython3",
   "version": "3.10.9"
  },
  "orig_nbformat": 4
 },
 "nbformat": 4,
 "nbformat_minor": 2
}
