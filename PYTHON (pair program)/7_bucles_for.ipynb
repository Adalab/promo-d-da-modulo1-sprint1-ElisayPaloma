{
 "cells": [
  {
   "attachments": {},
   "cell_type": "markdown",
   "metadata": {},
   "source": [
    "# PAIR PROGRAMMING 'BUCLES FOR'"
   ]
  },
  {
   "attachments": {},
   "cell_type": "markdown",
   "metadata": {},
   "source": [
    "1. Escribid un programa que pregunte al usuario una cantidad a invertir, el interés anual y el número de años, y muestre por pantalla el capital obtenido en la inversión cada año que dura la inversión."
   ]
  },
  {
   "cell_type": "code",
   "execution_count": 19,
   "metadata": {},
   "outputs": [
    {
     "name": "stdout",
     "output_type": "stream",
     "text": [
      "1000\n",
      "10\n",
      "20\n"
     ]
    }
   ],
   "source": [
    "# creamos las variables con método input convirtiendolos directamente a integer\n",
    "cantidad_inversion = int(input('¿Cuanto dinero estás dispuesto a invertir'))\n",
    "interes_anual = int(input('¿Que interés aún esperas conseguir? Dilo en valor numérico'))\n",
    "numero_años = int(input('¿Durante cuantos años planeas invertir?'))\n",
    "\n",
    "print(cantidad_inversion)\n",
    "print(interes_anual)\n",
    "print(numero_años)"
   ]
  },
  {
   "cell_type": "code",
   "execution_count": 21,
   "metadata": {},
   "outputs": [
    {
     "name": "stdout",
     "output_type": "stream",
     "text": [
      "10000\n",
      "10365\n",
      "10730\n",
      "11095\n",
      "11460\n",
      "11825\n",
      "12190\n",
      "12555\n",
      "12920\n",
      "13285\n",
      "13650\n",
      "14015\n",
      "14380\n",
      "14745\n",
      "15110\n",
      "15475\n",
      "15840\n",
      "16205\n",
      "16570\n",
      "16935\n"
     ]
    }
   ],
   "source": [
    "# creamos un bucle en el que itere la función el número de años que el usuario quiere invertir utilizando el metodo range\n",
    "# utilizamos la formula para calcular el beneficio anual con los datos que tenemos\n",
    "for año in range(numero_años):\n",
    "   capital_obtenido = cantidad_inversion * interes_anual + (año * 365)\n",
    "   print(capital_obtenido)"
   ]
  },
  {
   "attachments": {},
   "cell_type": "markdown",
   "metadata": {},
   "source": [
    "2. Escribid un programa en el que se pregunte al usuario por una frase y una letra, y muestre por pantalla el número de veces que aparece la letra en la frase."
   ]
  },
  {
   "cell_type": "code",
   "execution_count": 36,
   "metadata": {},
   "outputs": [
    {
     "name": "stdout",
     "output_type": "stream",
     "text": [
      "Las rosas son rojas\n",
      "r\n"
     ]
    }
   ],
   "source": [
    "#creamos las variables\n",
    "frase = input('Escribeme una frase')\n",
    "letra = input('Dime una letra')\n",
    "print(frase)\n",
    "print(letra)"
   ]
  },
  {
   "cell_type": "code",
   "execution_count": 37,
   "metadata": {},
   "outputs": [
    {
     "name": "stdout",
     "output_type": "stream",
     "text": [
      "las rosas son rojas\n",
      "r\n"
     ]
    }
   ],
   "source": [
    "# convertimos a minúsculas ambas variables para evitar confusiones en el programa\n",
    "frase = frase.lower()\n",
    "letra = letra.lower()\n",
    "print(frase)\n",
    "print(letra)"
   ]
  },
  {
   "cell_type": "code",
   "execution_count": 39,
   "metadata": {},
   "outputs": [
    {
     "name": "stdout",
     "output_type": "stream",
     "text": [
      "2\n"
     ]
    }
   ],
   "source": [
    "for letras in frase:\n",
    "    print(frase.count(letra))\n",
    "    break"
   ]
  },
  {
   "attachments": {},
   "cell_type": "markdown",
   "metadata": {},
   "source": [
    "3. Escribid un programa que nos devuelva la tabla de multiplicar de un número especificado en una función input"
   ]
  },
  {
   "cell_type": "code",
   "execution_count": 40,
   "metadata": {},
   "outputs": [
    {
     "name": "stdout",
     "output_type": "stream",
     "text": [
      "7\n"
     ]
    }
   ],
   "source": [
    "# creamos la variable\n",
    "numero1 = int(input('Dime un numero'))\n",
    "print(numero1)"
   ]
  },
  {
   "cell_type": "code",
   "execution_count": 41,
   "metadata": {},
   "outputs": [
    {
     "name": "stdout",
     "output_type": "stream",
     "text": [
      "7\n",
      "14\n",
      "21\n",
      "28\n",
      "35\n",
      "42\n",
      "49\n",
      "56\n",
      "63\n",
      "70\n"
     ]
    }
   ],
   "source": [
    "for num in range(1,11):\n",
    "    print(numero1 * num)"
   ]
  },
  {
   "attachments": {},
   "cell_type": "markdown",
   "metadata": {},
   "source": [
    "4. Dada la siguinte lista de números:\n",
    "```\n",
    "numbers = [12, 75, 150, 180, 145, 525, 50]\n",
    "```\n",
    "Escribid un programa que muestre sólo los números de una lista que cumplan las siguientes condiciones\n",
    "- El número debe ser divisible entre cinco\n",
    "- Si el número es mayor que 150, se salta y se pasa al siguiente número\n",
    "- Si el número es mayor que 500, entonces detenga el bucle"
   ]
  },
  {
   "cell_type": "code",
   "execution_count": 6,
   "metadata": {},
   "outputs": [],
   "source": [
    "numbers = [12, 75, 150, 180, 145, 525, 50]\n"
   ]
  },
  {
   "cell_type": "code",
   "execution_count": 9,
   "metadata": {},
   "outputs": [
    {
     "name": "stdout",
     "output_type": "stream",
     "text": [
      "180\n",
      "525\n"
     ]
    }
   ],
   "source": [
    "for num2 in numbers:\n",
    "    if (num2 % 5) == 0:\n",
    "        if num2 > 150:\n",
    "            print(num2)\n",
    "            continue\n",
    "        elif num2 > 500:\n",
    "            break\n",
    "        else:\n",
    "            pass"
   ]
  },
  {
   "attachments": {},
   "cell_type": "markdown",
   "metadata": {},
   "source": [
    "5. Dada la siguiente lista:\n",
    "```\n",
    "list1 = [10, 20, 30, 40, 50]\n",
    "```\n",
    "Imprimir la lista en orden inverso"
   ]
  },
  {
   "cell_type": "code",
   "execution_count": 13,
   "metadata": {},
   "outputs": [
    {
     "name": "stdout",
     "output_type": "stream",
     "text": [
      "[50, 40, 30, 20, 10]\n"
     ]
    }
   ],
   "source": [
    "list1 = [10, 20, 30, 40, 50]\n",
    "list1.reverse()\n",
    "print(list1)"
   ]
  },
  {
   "attachments": {},
   "cell_type": "markdown",
   "metadata": {},
   "source": [
    "6. Dado el siguiente código\n",
    "```\n",
    "for i in ['1','2','3']:\n",
    "    print (i**2)\n",
    "```\n",
    "Usando un try ... except, cread un programa para evitar que nos de un error el código anterior. En su lugar, si se encuentra un error, deberéis poner el código necesario para que no nos devuelva error."
   ]
  },
  {
   "cell_type": "code",
   "execution_count": 17,
   "metadata": {},
   "outputs": [
    {
     "name": "stdout",
     "output_type": "stream",
     "text": [
      "1\n",
      "4\n",
      "9\n"
     ]
    }
   ],
   "source": [
    "for i in ['1','2','3']:\n",
    "    try:\n",
    "        print (i**2)\n",
    "    except: \n",
    "        i = int(i)\n",
    "        print (i**2)\n"
   ]
  }
 ],
 "metadata": {
  "kernelspec": {
   "display_name": "adalabenv",
   "language": "python",
   "name": "python3"
  },
  "language_info": {
   "codemirror_mode": {
    "name": "ipython",
    "version": 3
   },
   "file_extension": ".py",
   "mimetype": "text/x-python",
   "name": "python",
   "nbconvert_exporter": "python",
   "pygments_lexer": "ipython3",
   "version": "3.10.9"
  },
  "orig_nbformat": 4
 },
 "nbformat": 4,
 "nbformat_minor": 2
}
