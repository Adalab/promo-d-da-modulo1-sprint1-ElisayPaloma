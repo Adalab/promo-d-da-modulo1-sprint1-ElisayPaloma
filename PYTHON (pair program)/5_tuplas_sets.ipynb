{
 "cells": [
  {
   "attachments": {},
   "cell_type": "markdown",
   "metadata": {},
   "source": [
    "# PAIR PROGRAMMING TUPLAS Y SETS"
   ]
  },
  {
   "attachments": {},
   "cell_type": "markdown",
   "metadata": {},
   "source": [
    "### TUPLAS"
   ]
  },
  {
   "attachments": {},
   "cell_type": "markdown",
   "metadata": {},
   "source": [
    "1- Cread una tupla que contenga la letra \"A\""
   ]
  },
  {
   "cell_type": "code",
   "execution_count": 2,
   "metadata": {},
   "outputs": [
    {
     "name": "stdout",
     "output_type": "stream",
     "text": [
      "<class 'tuple'>\n"
     ]
    }
   ],
   "source": [
    "tupla_A = ('A',)\n",
    "print(type(tupla_A))"
   ]
  },
  {
   "attachments": {},
   "cell_type": "markdown",
   "metadata": {},
   "source": [
    "2- Añadid los siguientes elementos \"d\", \"a\", \"l\", \"a\", \"b\" a la tupla definida en el paso anterior. ¿Se puede? ¿Por qué?"
   ]
  },
  {
   "cell_type": "code",
   "execution_count": 6,
   "metadata": {},
   "outputs": [],
   "source": [
    "# No se puede porque las tuplas son inmutables"
   ]
  },
  {
   "attachments": {},
   "cell_type": "markdown",
   "metadata": {},
   "source": [
    "3- Pensad de que forma podríamos tener una tupla que contenga el siguiente contenido (\"A\", \"d\", \"a\", \"l\", \"a\", \"b\") usando métodos de Python."
   ]
  },
  {
   "cell_type": "code",
   "execution_count": 5,
   "metadata": {},
   "outputs": [
    {
     "name": "stdout",
     "output_type": "stream",
     "text": [
      "<class 'tuple'>\n",
      "('A', 'd', 'a', 'l', 'a', 'b')\n"
     ]
    }
   ],
   "source": [
    "# las tuplas son inmutables, así que solo podrían unirse creando una segunda tupla\n",
    "tupla2 = (\"d\", \"a\", \"l\", \"a\", \"b\")\n",
    "print(type(tupla2))\n",
    "\n",
    "# y depsues uniéndolas\n",
    "\n",
    "super_tupla = tupla_A + tupla2\n",
    "print(super_tupla)"
   ]
  },
  {
   "attachments": {},
   "cell_type": "markdown",
   "metadata": {},
   "source": [
    "4- ¿Cuál es el índice de la letra \"l\"?"
   ]
  },
  {
   "cell_type": "code",
   "execution_count": 10,
   "metadata": {},
   "outputs": [
    {
     "name": "stdout",
     "output_type": "stream",
     "text": [
      "El indice del elemento \"l\" de la tupla es 3\n"
     ]
    }
   ],
   "source": [
    "print(f'El indice del elemento \"l\" de la tupla es {super_tupla.index(\"l\")}')"
   ]
  },
  {
   "attachments": {},
   "cell_type": "markdown",
   "metadata": {},
   "source": [
    "5- ¿Cuántas veces aparece la letra \"a\" en nuestra tupla?"
   ]
  },
  {
   "cell_type": "code",
   "execution_count": 13,
   "metadata": {},
   "outputs": [
    {
     "name": "stdout",
     "output_type": "stream",
     "text": [
      "El numero de veces que aparece la letra \"a\" en la tupla es 2\n"
     ]
    }
   ],
   "source": [
    "print(f'El numero de veces que aparece la letra \"a\" en la tupla es {super_tupla.count(\"a\")}')"
   ]
  },
  {
   "attachments": {},
   "cell_type": "markdown",
   "metadata": {},
   "source": [
    "### SETS"
   ]
  },
  {
   "attachments": {},
   "cell_type": "markdown",
   "metadata": {},
   "source": [
    "1- Dados los siguientes sets:\n",
    "```\n",
    "set1 = {1,3,6,2,8,9}\n",
    "set2 = {2,1,9,3,10,18}\n",
    "```"
   ]
  },
  {
   "cell_type": "code",
   "execution_count": 14,
   "metadata": {},
   "outputs": [],
   "source": [
    "set1 = {1,3,6,2,8,9}\n",
    "set2 = {2,1,9,3,10,18}"
   ]
  },
  {
   "attachments": {},
   "cell_type": "markdown",
   "metadata": {},
   "source": [
    "2- Identifica los elementos que están en set1 pero no en set2. Almacenad los resultados en una variable que se llame set3"
   ]
  },
  {
   "cell_type": "code",
   "execution_count": 18,
   "metadata": {},
   "outputs": [
    {
     "name": "stdout",
     "output_type": "stream",
     "text": [
      "{8, 6}\n"
     ]
    }
   ],
   "source": [
    "set3 = (set1 - set2)\n",
    "print(set3)"
   ]
  },
  {
   "attachments": {},
   "cell_type": "markdown",
   "metadata": {},
   "source": [
    "3- Identifica los elementos que están en set2 pero no en set1. Almacenad los resultados en una variable que se llame set4."
   ]
  },
  {
   "cell_type": "code",
   "execution_count": 19,
   "metadata": {},
   "outputs": [
    {
     "name": "stdout",
     "output_type": "stream",
     "text": [
      "{18, 10}\n"
     ]
    }
   ],
   "source": [
    "set4 = (set2 - set1)\n",
    "print(set4)"
   ]
  },
  {
   "attachments": {},
   "cell_type": "markdown",
   "metadata": {},
   "source": [
    "4- Identifica los elementos comunes entre el set1 y el set2. Almacenad los resultados en una variable que se llame set5."
   ]
  },
  {
   "cell_type": "code",
   "execution_count": 20,
   "metadata": {},
   "outputs": [
    {
     "name": "stdout",
     "output_type": "stream",
     "text": [
      "{1, 2, 3, 9}\n"
     ]
    }
   ],
   "source": [
    "set5 = set1.intersection(set2)\n",
    "print(set5)"
   ]
  },
  {
   "attachments": {},
   "cell_type": "markdown",
   "metadata": {},
   "source": [
    "5- Cread un set vacío llamado set6. Añadid el set3 y set4 al set6."
   ]
  },
  {
   "cell_type": "code",
   "execution_count": 27,
   "metadata": {},
   "outputs": [
    {
     "name": "stdout",
     "output_type": "stream",
     "text": [
      "<class 'set'>\n",
      "{8, 18, 10, 6}\n",
      "<class 'set'>\n"
     ]
    }
   ],
   "source": [
    "set6 = set()\n",
    "print(type(set6))\n",
    "\n",
    "set6.update(set3, set4)\n",
    "print(set6)\n",
    "print(type(set6))"
   ]
  },
  {
   "attachments": {},
   "cell_type": "markdown",
   "metadata": {},
   "source": [
    "6- ¿Es el set1 igual al set6?"
   ]
  },
  {
   "cell_type": "code",
   "execution_count": 31,
   "metadata": {},
   "outputs": [
    {
     "name": "stdout",
     "output_type": "stream",
     "text": [
      "False\n"
     ]
    }
   ],
   "source": [
    "print(set1 is set6)"
   ]
  },
  {
   "attachments": {},
   "cell_type": "markdown",
   "metadata": {},
   "source": [
    "7- Chequead si el set1 contiene al set2. 💡Pista: deberéis usar el método issubset()"
   ]
  },
  {
   "cell_type": "code",
   "execution_count": 36,
   "metadata": {},
   "outputs": [
    {
     "name": "stdout",
     "output_type": "stream",
     "text": [
      "{1, 2, 3, 6, 8, 9}\n",
      "{1, 2, 3, 18, 9, 10}\n",
      "False\n"
     ]
    }
   ],
   "source": [
    "print(set1)\n",
    "print(set2)\n",
    "print(set2.issubset(set1))\n",
    "\n",
    "# El set1 NO contiene al set2"
   ]
  },
  {
   "attachments": {},
   "cell_type": "markdown",
   "metadata": {},
   "source": [
    "8- Eliminad el primer elemento del set6"
   ]
  },
  {
   "cell_type": "code",
   "execution_count": 43,
   "metadata": {},
   "outputs": [
    {
     "name": "stdout",
     "output_type": "stream",
     "text": [
      "{8, 18, 10, 6}\n",
      "{18, 10, 6}\n"
     ]
    }
   ],
   "source": [
    "print(set6)\n",
    "# los set no tiene orden fijo por lo que no podemos usar index, pero podemos printear la lista y borrar con remove el elemento que aparece\n",
    "set6.remove(8)\n",
    "print(set6)"
   ]
  }
 ],
 "metadata": {
  "kernelspec": {
   "display_name": "adalabenv",
   "language": "python",
   "name": "python3"
  },
  "language_info": {
   "codemirror_mode": {
    "name": "ipython",
    "version": 3
   },
   "file_extension": ".py",
   "mimetype": "text/x-python",
   "name": "python",
   "nbconvert_exporter": "python",
   "pygments_lexer": "ipython3",
   "version": "3.10.9"
  },
  "orig_nbformat": 4
 },
 "nbformat": 4,
 "nbformat_minor": 2
}
