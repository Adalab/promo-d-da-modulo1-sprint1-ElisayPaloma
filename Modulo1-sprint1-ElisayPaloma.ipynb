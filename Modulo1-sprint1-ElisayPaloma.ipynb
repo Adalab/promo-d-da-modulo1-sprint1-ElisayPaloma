{
 "cells": [
  {
   "attachments": {},
   "cell_type": "markdown",
   "metadata": {},
   "source": [
    "# PAIR PROGRAMMING MODULO 1"
   ]
  },
  {
   "attachments": {},
   "cell_type": "markdown",
   "metadata": {},
   "source": [
    "## Variables, booleanas, operadores numéricos y binarios\n"
   ]
  },
  {
   "attachments": {},
   "cell_type": "markdown",
   "metadata": {},
   "source": [
    "Cread tres variables numéricas de tipo integer (entero), llamadas de la siguiente forma:\n",
    "- numero1\n",
    "- numero2\n",
    "- numero3"
   ]
  },
  {
   "cell_type": "code",
   "execution_count": 3,
   "metadata": {},
   "outputs": [],
   "source": [
    "numero1 = 2\n",
    "numero2 = 4\n",
    "numero3 = 27"
   ]
  },
  {
   "attachments": {},
   "cell_type": "markdown",
   "metadata": {},
   "source": [
    "Utilizando los operadores lógicos:\n",
    "- En vuestro caso, es el numero1 mayor que el numero2\n",
    "- Es el numero1 menor que el numero2 pero mayor que el numero3\n",
    "- Es el numero3 igual que el numero2\n",
    "- Es el numero2 distinto que el numero1"
   ]
  },
  {
   "cell_type": "code",
   "execution_count": 5,
   "metadata": {},
   "outputs": [
    {
     "name": "stdout",
     "output_type": "stream",
     "text": [
      "False\n",
      "False\n",
      "False\n",
      "True\n"
     ]
    }
   ],
   "source": [
    "print(numero1 > numero2)\n",
    "print(numero2 > numero1 > numero3)\n",
    "print(numero3 == numero2)\n",
    "print(numero2 != numero1)"
   ]
  },
  {
   "attachments": {},
   "cell_type": "markdown",
   "metadata": {},
   "source": [
    "Cread dos variables numéricas de tipo float (decimal) con dos decimales, llamdas de la siguiente forma:\n",
    "- altura1\n",
    "- altura2"
   ]
  },
  {
   "cell_type": "code",
   "execution_count": 7,
   "metadata": {},
   "outputs": [],
   "source": [
    "altura1 = 1.61\n",
    "altura2 = 1.70"
   ]
  },
  {
   "attachments": {},
   "cell_type": "markdown",
   "metadata": {},
   "source": [
    "Utilizando los operadores matemáticos aprendidos en la lección:\n",
    "- Cuál es la suma de las dos alturas\n",
    "- Cuál es la diferencia entre las alturas\n",
    "- Cuál es el resto de la división de las dos alturas\n",
    "- Cuál es resultado de la división de las dos alturas, redondead el resultado a un decimal."
   ]
  },
  {
   "cell_type": "code",
   "execution_count": 10,
   "metadata": {},
   "outputs": [
    {
     "name": "stdout",
     "output_type": "stream",
     "text": [
      "3.31\n",
      "0.08999999999999986\n",
      "0.08999999999999986\n",
      "1.0\n"
     ]
    }
   ],
   "source": [
    "print(altura1 + altura2)\n",
    "print(altura2 - altura1)\n",
    "print(altura2 % altura1)\n",
    "print(altura2 // altura1)\n"
   ]
  },
  {
   "attachments": {},
   "cell_type": "markdown",
   "metadata": {},
   "source": [
    "Escribid un programa usando la función input() que le pregunte al usuario su nombre y apellidos. Una vez que tengamos el nombre del usuario:\n",
    "- Printead su nombre y apellidos todo en mayúsculas\n",
    "- Printead su nombre y apellidos todo en minúsculas\n",
    "- Printead su nombre y apellidos con la primera letra del nombre y los apellidos en mayúscula y el resto en minúscula.\n",
    "- Printeas solo la primera letra del nombre en mayúscula."
   ]
  },
  {
   "cell_type": "code",
   "execution_count": 12,
   "metadata": {},
   "outputs": [],
   "source": [
    "nombre = input(\"Dime tu nombre\")\n",
    "apellidos = input(\"Dime tus apellidos\")\n"
   ]
  },
  {
   "cell_type": "code",
   "execution_count": 19,
   "metadata": {},
   "outputs": [
    {
     "name": "stdout",
     "output_type": "stream",
     "text": [
      "Elisa Jimenez Azcona\n",
      "ELISA JIMENEZ AZCONA\n",
      "elisa jimenez azcona\n",
      "Elisa Jimenez Azcona\n",
      "Elisa jimenez azcona\n"
     ]
    }
   ],
   "source": [
    "print(nombre , apellidos)\n",
    "print(nombre.upper(), apellidos.upper())\n",
    "print(nombre.lower(), apellidos.lower())\n",
    "print(nombre.title(), apellidos.title())\n",
    "print(nombre.capitalize(), apellidos.lower())"
   ]
  },
  {
   "attachments": {},
   "cell_type": "markdown",
   "metadata": {},
   "source": [
    "Escribid un programa usando la función input() que:\n",
    "- Le pregunte al usuario por una frase, almacenad este resultado en una variable.\n",
    "- Le pregunte al usuario por una vocal, almacenad este resultado en una variable.\n",
    "- Printead la misma frase pero con la vocal introducida en mayúsulas."
   ]
  },
  {
   "cell_type": "code",
   "execution_count": 24,
   "metadata": {},
   "outputs": [],
   "source": [
    "frase = input(\"dime una frase insipiradora\")\n",
    "vocal = input(\"dime la primera vocal de tu nombre\") \n",
    "vocal_mayus = vocal.upper()           "
   ]
  },
  {
   "cell_type": "code",
   "execution_count": 26,
   "metadata": {},
   "outputs": [
    {
     "name": "stdout",
     "output_type": "stream",
     "text": [
      "lA vidA pA nosotrAs\n"
     ]
    }
   ],
   "source": [
    "print(frase.replace(vocal, vocal_mayus))\n",
    "\n"
   ]
  },
  {
   "attachments": {},
   "cell_type": "markdown",
   "metadata": {},
   "source": [
    "Escribid un programa usando la función input() que:\n",
    "- Le pregunte al usuario por la lista de la compra, separando cada elemento por comas.\n",
    "- Devolved la lista de compra donde veamos cada elemento en una línea.\n",
    "     - 💡Pista\n",
    "     - Para indicar salto de línea usaremos \"\\n\".\n",
    "     - Deberéis usar el método join de los strings"
   ]
  },
  {
   "cell_type": "code",
   "execution_count": 28,
   "metadata": {},
   "outputs": [],
   "source": [
    "compra = input(\"que vas a comprar hoy\")\n",
    "\n",
    "compra_separado = compra.split()\n",
    "\n"
   ]
  },
  {
   "cell_type": "code",
   "execution_count": 30,
   "metadata": {},
   "outputs": [
    {
     "name": "stdout",
     "output_type": "stream",
     "text": [
      "['leche,', 'pa,', 'nuevo']\n"
     ]
    }
   ],
   "source": [
    "print(compra_separado)\n"
   ]
  },
  {
   "cell_type": "code",
   "execution_count": 32,
   "metadata": {},
   "outputs": [
    {
     "name": "stdout",
     "output_type": "stream",
     "text": [
      "leche,\n",
      "pa,\n",
      "nuevo\n"
     ]
    }
   ],
   "source": [
    "string_compra_2 =  \"\\n\".join(compra_separado)\n",
    "print(string_compra_2)"
   ]
  }
 ],
 "metadata": {
  "kernelspec": {
   "display_name": "base",
   "language": "python",
   "name": "python3"
  },
  "language_info": {
   "codemirror_mode": {
    "name": "ipython",
    "version": 3
   },
   "file_extension": ".py",
   "mimetype": "text/x-python",
   "name": "python",
   "nbconvert_exporter": "python",
   "pygments_lexer": "ipython3",
   "version": "3.9.7"
  },
  "orig_nbformat": 4,
  "vscode": {
   "interpreter": {
    "hash": "61a57a4b5406d2de388e2f91097d4e4bcd7d5f4a46f53a795aa28a02eed27fc5"
   }
  }
 },
 "nbformat": 4,
 "nbformat_minor": 2
}
