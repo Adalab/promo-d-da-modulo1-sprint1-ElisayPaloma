{
 "cells": [
  {
   "attachments": {},
   "cell_type": "markdown",
   "metadata": {},
   "source": [
    "# PAIR PROGRAMMING - LISTAS 1"
   ]
  },
  {
   "attachments": {},
   "cell_type": "markdown",
   "metadata": {},
   "source": [
    "- Usando la función input, cread un programa que pregunte al usuario por el nombre de tres amig@s."
   ]
  },
  {
   "cell_type": "code",
   "execution_count": 19,
   "metadata": {},
   "outputs": [
    {
     "name": "stdout",
     "output_type": "stream",
     "text": [
      "Ana, Diego, Marta\n"
     ]
    }
   ],
   "source": [
    "nombre_amigos = input(\"Dime el nombre de tres de tus amistades\")\n",
    "print(nombre_amigos)"
   ]
  },
  {
   "attachments": {},
   "cell_type": "markdown",
   "metadata": {},
   "source": [
    "- Almacenad los resultados del paso anterior en una lista. \n",
    "    - 💡Pista Tendréis que usar métodos de los strings que aprendimos en la lección anterior."
   ]
  },
  {
   "cell_type": "code",
   "execution_count": 20,
   "metadata": {},
   "outputs": [
    {
     "name": "stdout",
     "output_type": "stream",
     "text": [
      "['Ana', ' Diego', ' Marta']\n"
     ]
    }
   ],
   "source": [
    "lista_amigos = nombre_amigos.split(\",\")\n",
    "print(lista_amigos)"
   ]
  },
  {
   "attachments": {},
   "cell_type": "markdown",
   "metadata": {},
   "source": [
    "- Usando la función input, cread un programa que ahora le pregunte al usuario por las alturas de sus amig@s. Y almacenar los resultados en una lista.\n",
    "    - Esto os devolverá una lista de strings similar a esta:\n",
    "        > lista_alturas = ['1.45', ' 1.67', ' 1.57']"
   ]
  },
  {
   "cell_type": "code",
   "execution_count": 43,
   "metadata": {},
   "outputs": [],
   "source": [
    "alturas = input(\"Dime la altura de tres amigos\")\n",
    "lista_alturas = alturas.split(\",\")\n"
   ]
  },
  {
   "cell_type": "code",
   "execution_count": 44,
   "metadata": {},
   "outputs": [
    {
     "name": "stdout",
     "output_type": "stream",
     "text": [
      "['1.82', ' 1.63', ' 1.74']\n"
     ]
    }
   ],
   "source": [
    "print(lista_alturas)"
   ]
  },
  {
   "attachments": {},
   "cell_type": "markdown",
   "metadata": {},
   "source": [
    "- Nos interesa que las alturas estén en tipo float para eso, ejecutad el siguiente código. No es necesario que lo entendáis, es un concepto más avanzado que aprenderemos en las siguientes lecciones.\n",
    "    > lista_alturas = [float(i) for i in lista_alturas]"
   ]
  },
  {
   "cell_type": "code",
   "execution_count": 45,
   "metadata": {},
   "outputs": [],
   "source": [
    "lista_alturas = [float(i) for i in lista_alturas]"
   ]
  },
  {
   "attachments": {},
   "cell_type": "markdown",
   "metadata": {},
   "source": [
    "- Ordenad las dos listas de mayor a menor. ¿Lo podréis hacer para la lista de nombres?"
   ]
  },
  {
   "cell_type": "code",
   "execution_count": 47,
   "metadata": {},
   "outputs": [
    {
     "name": "stdout",
     "output_type": "stream",
     "text": [
      "[1.82, 1.74, 1.63]\n"
     ]
    }
   ],
   "source": [
    "alturas_orden = lista_alturas.copy()\n",
    "alturas_orden.sort(reverse=True)\n",
    "print(alturas_orden)"
   ]
  },
  {
   "cell_type": "code",
   "execution_count": 50,
   "metadata": {},
   "outputs": [
    {
     "name": "stdout",
     "output_type": "stream",
     "text": [
      "['Ana', ' Marta', ' Diego']\n"
     ]
    }
   ],
   "source": [
    "amigos_orden = lista_amigos.copy()\n",
    "amigos_orden.sort(reverse=True)\n",
    "print(amigos_orden)"
   ]
  },
  {
   "attachments": {},
   "cell_type": "markdown",
   "metadata": {},
   "source": [
    "- ¿Cuál es la altura máxima de todos nuestros amig@s? ¿Y la mínima?"
   ]
  },
  {
   "cell_type": "code",
   "execution_count": 51,
   "metadata": {},
   "outputs": [
    {
     "name": "stdout",
     "output_type": "stream",
     "text": [
      "La altura máxima es 1.82 y la altura mínima es 1.63\n"
     ]
    }
   ],
   "source": [
    "alt_max = max(lista_alturas)\n",
    "alt_min = min(lista_alturas)\n",
    "print(\"La altura máxima es\", alt_max, \"y la altura mínima es\", alt_min)"
   ]
  },
  {
   "attachments": {},
   "cell_type": "markdown",
   "metadata": {},
   "source": [
    "- Dadas las siguientes listas:\n",
    "    - > lista1 = [44, 55, 67, 44, 98, 29]\n",
    "    - > lista2 = [34, 56, 56, 78, 67, 56]\n",
    "\n",
    "\n",
    "- Unid las dos listas de forma que consigamos el siguiente output. Almacenad los resultados en una nueva variable y llamadla lista_lista.\n",
    "    - > lista_lista = [[44, 55, 67, 44, 98, 29], [34, 56, 56, 78, 67, 56]]\n"
   ]
  },
  {
   "attachments": {},
   "cell_type": "markdown",
   "metadata": {},
   "source": [
    "- Unid las dos listas de forma que consigamos el siguiente output. Almacenad los resultados en una nueva variable y llamadla lista_numeros.\n",
    "    - > lista_numeros = [44, 55, 67, 44, 98, 29, 34, 56, 56, 78, 67, 56]"
   ]
  },
  {
   "cell_type": "code",
   "execution_count": 52,
   "metadata": {},
   "outputs": [],
   "source": [
    "lista1 = [44, 55, 67, 44, 98, 29]\n",
    "lista2 = [34, 56, 56, 78, 67, 56]"
   ]
  },
  {
   "cell_type": "code",
   "execution_count": 53,
   "metadata": {},
   "outputs": [
    {
     "name": "stdout",
     "output_type": "stream",
     "text": [
      "[[44, 55, 67, 44, 98, 29], [34, 56, 56, 78, 67, 56]]\n"
     ]
    }
   ],
   "source": [
    "lista_lista = [lista1, lista2]\n",
    "print(lista_lista)"
   ]
  },
  {
   "cell_type": "code",
   "execution_count": 69,
   "metadata": {},
   "outputs": [
    {
     "name": "stdout",
     "output_type": "stream",
     "text": [
      "[[44, 55, 67, 44, 98, 29, 34, 56, 56, 78, 67, 56]]\n"
     ]
    }
   ],
   "source": [
    "lista_numeros = [lista1 + lista2]\n",
    "print(lista_numeros)"
   ]
  },
  {
   "attachments": {},
   "cell_type": "markdown",
   "metadata": {},
   "source": [
    "- De la lista lista_lista, ¿cuántas veces aparece el número 67? ¿y en la lista lista_numeros.\n",
    "Justificad por qué salen números diferentes"
   ]
  },
  {
   "cell_type": "code",
   "execution_count": 68,
   "metadata": {},
   "outputs": [
    {
     "data": {
      "text/plain": [
       "0"
      ]
     },
     "execution_count": 68,
     "metadata": {},
     "output_type": "execute_result"
    }
   ],
   "source": [
    "lista_lista = l\n"
   ]
  },
  {
   "cell_type": "code",
   "execution_count": 66,
   "metadata": {},
   "outputs": [
    {
     "name": "stdout",
     "output_type": "stream",
     "text": [
      "0\n"
     ]
    }
   ],
   "source": [
    "\n",
    "print(lista_numeros.count(67))"
   ]
  }
 ],
 "metadata": {
  "kernelspec": {
   "display_name": "base",
   "language": "python",
   "name": "python3"
  },
  "language_info": {
   "codemirror_mode": {
    "name": "ipython",
    "version": 3
   },
   "file_extension": ".py",
   "mimetype": "text/x-python",
   "name": "python",
   "nbconvert_exporter": "python",
   "pygments_lexer": "ipython3",
   "version": "3.9.13"
  },
  "orig_nbformat": 4,
  "vscode": {
   "interpreter": {
    "hash": "523c64e1df08c115e1b54ae8a57fd532f140f4d43ef3574b8e2c0b818abd979b"
   }
  }
 },
 "nbformat": 4,
 "nbformat_minor": 2
}
